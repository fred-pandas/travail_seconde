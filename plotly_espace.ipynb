{
 "cells": [
  {
   "cell_type": "code",
   "execution_count": 1,
   "metadata": {
    "collapsed": true
   },
   "outputs": [],
   "source": [
    "import plotly.plotly as py\n",
    "import plotly.graph_objs as go\n",
    "\n",
    "import pandas as pa"
   ]
  },
  {
   "cell_type": "code",
   "execution_count": 5,
   "metadata": {},
   "outputs": [
    {
     "data": {
      "text/html": [
       "<iframe id=\"igraph\" scrolling=\"no\" style=\"border:none;\" seamless=\"seamless\" src=\"https://plot.ly/~fredfred1377/102.embed\" height=\"525px\" width=\"100%\"></iframe>"
      ],
      "text/plain": [
       "<plotly.tools.PlotlyDisplay object>"
      ]
     },
     "execution_count": 5,
     "metadata": {},
     "output_type": "execute_result"
    }
   ],
   "source": [
    "# plot(3)  scattergeo map of volcano locations\n",
    "trace3 = {\n",
    "  \"geo\": \"geo3\",\n",
    "  \"lon\": [0.5,3,15],\n",
    "  \"lat\": [30,35,33],\n",
    "  \"hoverinfo\": 'text',\n",
    "  \"marker\": {\n",
    "    \"size\": 4,\n",
    "    \"opacity\": 0.8,\n",
    "    \"color\": '#CF1020',\n",
    "    \"colorscale\": 'Viridis'\n",
    "  },\n",
    "  \"mode\": \"markers\",\n",
    "  \"type\": \"scattergeo\"\n",
    "}\n",
    "\n",
    "data = [trace3]\n",
    "\n",
    "# control the subplot below using domain in 'geo', 'scene', and 'axis'\n",
    "layout = {\n",
    "  \"plot_bgcolor\": 'black',\n",
    "  \"paper_bgcolor\": 'black',\n",
    "  \"titlefont\": {\n",
    "      \"size\": 20,\n",
    "      \"family\": \"Raleway\"\n",
    "  },\n",
    "  \"font\": {\n",
    "      \"color\": 'white'\n",
    "  },\n",
    "  \"dragmode\": \"zoom\",\n",
    "  \"geo3\": {\n",
    "    \"domain\": {\n",
    "      \"x\": [0, 0.55],\n",
    "      \"y\": [0, 0.9]\n",
    "    },\n",
    "    \"lakecolor\": \"rgba(127,205,255,1)\",\n",
    "    \"oceancolor\": \"rgb(6,66,115)\",\n",
    "    \"landcolor\": 'white',\n",
    "    \"projection\": {\"type\": \"orthographic\"},\n",
    "    \"scope\": \"world\",\n",
    "    \"showlakes\": True,\n",
    "    \"showocean\": True,\n",
    "    \"showland\": True,\n",
    "    \"bgcolor\": 'black'\n",
    "  },\n",
    "  \"margin\": {\n",
    "    \"r\": 10,\n",
    "    \"t\": 25,\n",
    "    \"b\": 40,\n",
    "    \"l\": 60\n",
    "  },\n",
    "  \"scene\": {\"domain\": {\n",
    "      \"x\": [0.5, 1],\n",
    "      \"y\": [0, 0.55]\n",
    "    },\n",
    "           \"xaxis\": {\"gridcolor\": 'white'},\n",
    "           \"yaxis\": {\"gridcolor\": 'white'},\n",
    "           \"zaxis\": {\"gridcolor\": 'white'}\n",
    "           },\n",
    "  \"showlegend\": False,\n",
    "  \"title\": \"<br>Volcano Database\",\n",
    "  \"xaxis\": {\n",
    "    \"anchor\": \"y\",\n",
    "    \"domain\": [0.6, 0.95]\n",
    "  },\n",
    "  \"yaxis\": {\n",
    "    \"anchor\": \"x\",\n",
    "    \"domain\": [0.65, 0.95],\n",
    "    \"showgrid\": False\n",
    "  }\n",
    "}\n",
    "\n",
    "annotations = { \"text\": \"Source: NOAA\",\n",
    "               \"showarrow\": False,\n",
    "               \"xref\": \"paper\",\n",
    "               \"yref\": \"paper\",\n",
    "               \"x\": 0,\n",
    "               \"y\": 0}\n",
    "\n",
    "layout['annotations'] = [annotations]\n",
    "\n",
    "fig = go.Figure(data=data, layout=layout)\n",
    "py.iplot(fig, filename = \"chutes meterorites\")"
   ]
  },
  {
   "cell_type": "code",
   "execution_count": null,
   "metadata": {
    "collapsed": true
   },
   "outputs": [],
   "source": []
  }
 ],
 "metadata": {
  "kernelspec": {
   "display_name": "Python 3",
   "language": "python",
   "name": "python3"
  },
  "language_info": {
   "codemirror_mode": {
    "name": "ipython",
    "version": 3
   },
   "file_extension": ".py",
   "mimetype": "text/x-python",
   "name": "python",
   "nbconvert_exporter": "python",
   "pygments_lexer": "ipython3",
   "version": "3.7.1"
  }
 },
 "nbformat": 4,
 "nbformat_minor": 2
}
